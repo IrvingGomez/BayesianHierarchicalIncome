{
 "cells": [
  {
   "cell_type": "code",
   "execution_count": 1,
   "metadata": {},
   "outputs": [],
   "source": [
    "import numpy as np\n",
    "import pandas as pd\n",
    "import pymc as pm\n",
    "import arviz as az\n",
    "\n",
    "from scipy.stats import poisson, norm, invgamma, uniform\n",
    "\n",
    "import matplotlib.pyplot as plt\n",
    "import seaborn as sns\n",
    "\n",
    "import warnings\n",
    "warnings.filterwarnings('ignore')"
   ]
  },
  {
   "cell_type": "code",
   "execution_count": 2,
   "metadata": {},
   "outputs": [],
   "source": [
    "J = 6\n",
    "\n",
    "np.random.seed(111)\n",
    "N = poisson.rvs(3, size=J, loc=10)\n",
    "\n",
    "MU  = -9\n",
    "TAU = 1\n",
    "GAMMA = 2\n",
    "ZETA = 3\n",
    "RHO = 3\n",
    "NU  = 4\n",
    "\n",
    "np.random.seed(111)\n",
    "ALPHA  = norm.rvs(size=J, loc=MU, scale=TAU)\n",
    "BETA   = norm.rvs(size=J, loc=GAMMA, scale=ZETA)\n",
    "SIGMA2 = invgamma.rvs(size=J, a=NU/2, scale=NU/2*RHO**2)\n",
    "\n",
    "SIGMA = np.sqrt(SIGMA2)\n",
    "\n",
    "VARIABLE = 'Y'\n",
    "PREDICTOR = 'X'\n",
    "\n",
    "ALPHA_LEVEL = 0.05"
   ]
  },
  {
   "cell_type": "markdown",
   "metadata": {},
   "source": [
    "Create the data"
   ]
  },
  {
   "cell_type": "code",
   "execution_count": 3,
   "metadata": {},
   "outputs": [],
   "source": [
    "np.random.seed(111)\n",
    "X = uniform.rvs(size=N[0])\n",
    "Y = norm.rvs(size=N[0], loc=ALPHA[0] + BETA[0] * (X-np.mean(X)), scale=SIGMA[0])\n",
    "Dat = pd.DataFrame(np.array([Y, X, [0]*N[0]]).T)\n",
    "\n",
    "for j in range(1,J):\n",
    "    X = uniform.rvs(size=N[j])\n",
    "    Y = norm.rvs(size=N[j], loc=ALPHA[j] + BETA[j] * (X-np.mean(X)), scale=SIGMA[j])\n",
    "    DatAux = pd.DataFrame(np.array([Y, X, [j]*N[j]]).T)\n",
    "    Dat = pd.concat([Dat, DatAux])\n",
    "\n",
    "Dat = Dat.rename(columns={0:VARIABLE, 1:PREDICTOR, 2:'Region'})\n",
    "Dat['Region'] = Dat['Region'].astype(int)"
   ]
  },
  {
   "cell_type": "code",
   "execution_count": 4,
   "metadata": {},
   "outputs": [],
   "source": [
    "Dat = Dat[[VARIABLE, PREDICTOR]]"
   ]
  },
  {
   "cell_type": "code",
   "execution_count": 5,
   "metadata": {},
   "outputs": [],
   "source": [
    "PredictorMean = Dat[PREDICTOR].mean()"
   ]
  },
  {
   "attachments": {},
   "cell_type": "markdown",
   "metadata": {},
   "source": [
    "---"
   ]
  },
  {
   "attachments": {},
   "cell_type": "markdown",
   "metadata": {},
   "source": [
    "Regression model with common $\\alpha$ and $\\beta$"
   ]
  },
  {
   "cell_type": "code",
   "execution_count": 6,
   "metadata": {},
   "outputs": [],
   "source": [
    "with pm.Model() as ModelCommonAlphaCommonBeta:\n",
    "    Alpha = pm.Flat('Alpha')\n",
    "    Beta  = pm.Flat('Beta')\n",
    "\n",
    "    Sigma = pm.HalfFlat('Sigma')\n",
    "    pm.Potential('p(Sigma)', 1/Sigma)\n",
    "\n",
    "    MeanIncome = pm.Deterministic('MeanIncome', Alpha + Beta * (Dat[PREDICTOR] - PredictorMean))\n",
    "\n",
    "    Income = pm.Normal('Income', mu=MeanIncome, sigma=Sigma, observed=Dat[VARIABLE])"
   ]
  },
  {
   "attachments": {},
   "cell_type": "markdown",
   "metadata": {},
   "source": [
    "Get a sample from the posterior and the posterior predictive"
   ]
  },
  {
   "cell_type": "code",
   "execution_count": 7,
   "metadata": {},
   "outputs": [
    {
     "name": "stderr",
     "output_type": "stream",
     "text": [
      "Auto-assigning NUTS sampler...\n",
      "Initializing NUTS using jitter+adapt_diag...\n",
      "Multiprocess sampling (4 chains in 4 jobs)\n",
      "NUTS: [Alpha, Beta, Sigma]\n"
     ]
    },
    {
     "data": {
      "text/html": [
       "\n",
       "<style>\n",
       "    /* Turns off some styling */\n",
       "    progress {\n",
       "        /* gets rid of default border in Firefox and Opera. */\n",
       "        border: none;\n",
       "        /* Needs to be in here for Safari polyfill so background images work as expected. */\n",
       "        background-size: auto;\n",
       "    }\n",
       "    progress:not([value]), progress:not([value])::-webkit-progress-bar {\n",
       "        background: repeating-linear-gradient(45deg, #7e7e7e, #7e7e7e 10px, #5c5c5c 10px, #5c5c5c 20px);\n",
       "    }\n",
       "    .progress-bar-interrupted, .progress-bar-interrupted::-webkit-progress-bar {\n",
       "        background: #F44336;\n",
       "    }\n",
       "</style>\n"
      ],
      "text/plain": [
       "<IPython.core.display.HTML object>"
      ]
     },
     "metadata": {},
     "output_type": "display_data"
    },
    {
     "data": {
      "text/html": [
       "\n",
       "    <div>\n",
       "      <progress value='8000' class='' max='8000' style='width:300px; height:20px; vertical-align: middle;'></progress>\n",
       "      100.00% [8000/8000 00:03&lt;00:00 Sampling 4 chains, 0 divergences]\n",
       "    </div>\n",
       "    "
      ],
      "text/plain": [
       "<IPython.core.display.HTML object>"
      ]
     },
     "metadata": {},
     "output_type": "display_data"
    },
    {
     "name": "stderr",
     "output_type": "stream",
     "text": [
      "Sampling 4 chains for 1_000 tune and 1_000 draw iterations (4_000 + 4_000 draws total) took 3 seconds.\n",
      "Sampling: [Income]\n"
     ]
    },
    {
     "data": {
      "text/html": [
       "\n",
       "<style>\n",
       "    /* Turns off some styling */\n",
       "    progress {\n",
       "        /* gets rid of default border in Firefox and Opera. */\n",
       "        border: none;\n",
       "        /* Needs to be in here for Safari polyfill so background images work as expected. */\n",
       "        background-size: auto;\n",
       "    }\n",
       "    progress:not([value]), progress:not([value])::-webkit-progress-bar {\n",
       "        background: repeating-linear-gradient(45deg, #7e7e7e, #7e7e7e 10px, #5c5c5c 10px, #5c5c5c 20px);\n",
       "    }\n",
       "    .progress-bar-interrupted, .progress-bar-interrupted::-webkit-progress-bar {\n",
       "        background: #F44336;\n",
       "    }\n",
       "</style>\n"
      ],
      "text/plain": [
       "<IPython.core.display.HTML object>"
      ]
     },
     "metadata": {},
     "output_type": "display_data"
    },
    {
     "data": {
      "text/html": [
       "\n",
       "    <div>\n",
       "      <progress value='4000' class='' max='4000' style='width:300px; height:20px; vertical-align: middle;'></progress>\n",
       "      100.00% [4000/4000 00:00&lt;00:00]\n",
       "    </div>\n",
       "    "
      ],
      "text/plain": [
       "<IPython.core.display.HTML object>"
      ]
     },
     "metadata": {},
     "output_type": "display_data"
    }
   ],
   "source": [
    "with ModelCommonAlphaCommonBeta:\n",
    "    TraceCommonAlphaCommonBeta = pm.sample()\n",
    "    TraceCommonAlphaCommonBeta.extend(pm.sample_posterior_predictive(TraceCommonAlphaCommonBeta))"
   ]
  },
  {
   "attachments": {},
   "cell_type": "markdown",
   "metadata": {},
   "source": [
    "---"
   ]
  },
  {
   "attachments": {},
   "cell_type": "markdown",
   "metadata": {},
   "source": [
    "National average income, ratio of income per year-of-education"
   ]
  },
  {
   "cell_type": "code",
   "execution_count": 12,
   "metadata": {},
   "outputs": [
    {
     "data": {
      "text/plain": [
       "Text(0.5, 1.0, 'Posterior distribution of $\\\\beta$')"
      ]
     },
     "execution_count": 12,
     "metadata": {},
     "output_type": "execute_result"
    },
    {
     "data": {
      "image/png": "[encoded data removed]",
      "text/plain": [
       "<Figure size 1400x500 with 2 Axes>"
      ]
     },
     "metadata": {},
     "output_type": "display_data"
    }
   ],
   "source": [
    "_, axes = plt.subplots(1,2, figsize=(14,5))\n",
    "\n",
    "az.plot_posterior(\n",
    "    TraceCommonAlphaCommonBeta\n",
    "    , var_names = ['Alpha', 'Beta']\n",
    "    , hdi_prob = 1-ALPHA_LEVEL\n",
    "    , kind = 'hist'\n",
    "    , textsize=11\n",
    "    , ax = axes\n",
    ")\n",
    "\n",
    "sns.rugplot(ALPHA, ax=axes[0], color='orangered', height=0.07)\n",
    "sns.rugplot(BETA, ax=axes[1], color='orangered', height=0.07)\n",
    "\n",
    "axes[0].set_title(r\"Posterior distribution of $\\alpha$\")\n",
    "axes[1].set_title(r\"Posterior distribution of $\\beta$\")"
   ]
  },
  {
   "attachments": {},
   "cell_type": "markdown",
   "metadata": {},
   "source": [
    "Scatterplot"
   ]
  },
  {
   "cell_type": "code",
   "execution_count": 9,
   "metadata": {},
   "outputs": [
    {
     "data": {
      "text/plain": [
       "Text(0.5, 0, 'X')"
      ]
     },
     "execution_count": 9,
     "metadata": {},
     "output_type": "execute_result"
    },
    {
     "data": {
      "image/png": "[encoded data removed]",
      "text/plain": [
       "<Figure size 640x480 with 1 Axes>"
      ]
     },
     "metadata": {},
     "output_type": "display_data"
    }
   ],
   "source": [
    "plt.scatter(x=Dat[PREDICTOR], y=Dat[VARIABLE], s=10)\n",
    "\n",
    "plt.plot(\n",
    "    Dat[PREDICTOR]\n",
    "    , TraceCommonAlphaCommonBeta.posterior.MeanIncome.mean(('chain', 'draw'))\n",
    "    , label=\"Regression posterior mean\"\n",
    "    , color='k'\n",
    ")\n",
    "\n",
    "az.plot_hdi(\n",
    "    Dat[PREDICTOR]\n",
    "    , TraceCommonAlphaCommonBeta.posterior_predictive.Income\n",
    "    , hdi_prob=1-ALPHA_LEVEL\n",
    "    , color='rebeccapurple'\n",
    "    , fill_kwargs={'alpha': 0.5, 'label':\"Observations credible band\"}\n",
    ")\n",
    "\n",
    "az.plot_hdi(\n",
    "    Dat[PREDICTOR]\n",
    "    , TraceCommonAlphaCommonBeta.posterior.MeanIncome\n",
    "    , hdi_prob=1-ALPHA_LEVEL\n",
    "    , color='pink'\n",
    "    , fill_kwargs={'alpha': 0.5, 'label':\"Regression credible band\"}\n",
    ")\n",
    "\n",
    "plt.legend()\n",
    "\n",
    "plt.ylabel(VARIABLE)\n",
    "plt.xlabel(PREDICTOR)"
   ]
  }
 ],
 "metadata": {
  "kernelspec": {
   "display_name": "Python 3",
   "language": "python",
   "name": "python3"
  },
  "language_info": {
   "codemirror_mode": {
    "name": "ipython",
    "version": 3
   },
   "file_extension": ".py",
   "mimetype": "text/x-python",
   "name": "python",
   "nbconvert_exporter": "python",
   "pygments_lexer": "ipython3",
   "version": "3.11.6"
  },
  "orig_nbformat": 4
 },
 "nbformat": 4,
 "nbformat_minor": 2
}
